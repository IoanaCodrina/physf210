{
 "cells": [
  {
   "cell_type": "markdown",
   "metadata": {},
   "source": [
    "\n",
    "# A template for analysing the data in python\n",
    "\n",
    "This template is made to provide basic python commands for the reading and small processing of the data. Use it with care and try to adapt it to the spectra that you have taken during the lab. \n",
    "\n",
    "Implements:\n",
    "-  file reading\n",
    "-  simple peak finder that you will need to adapt maybe for each source\n",
    "-  selection of a region around a peak\n",
    "\n",
    "You will need to implement\n",
    "-  the uncertainties on the y variable \n",
    "-  a fit of the data with a Gaus function\n",
    "-  a linear fit to perform the energy calibration\n",
    "-  determine the energy resolution dependence \n",
    "-  ...\n",
    "\n",
    "Where to find information: internet is amazing for python\n"
   ]
  },
  {
   "cell_type": "code",
   "execution_count": null,
   "metadata": {
    "collapsed": false
   },
   "outputs": [],
   "source": [
    "from textwrap import dedent\n",
    "\n",
    "def code_hider():\n",
    "    \"\"\"Make a button in the jupyter notebook to hide all code\"\"\"\n",
    "    # Stolen from stackoverflow... forget which question\n",
    "    # I would really like these buttons for every individual cell.. but I don't know how\n",
    "    from IPython.display import HTML    \n",
    "    return HTML(dedent('''\n",
    "                       <script>\n",
    "                       code_show=true\n",
    "                       function code_toggle() {\n",
    "                        if (code_show){\n",
    "                        $('div.input').hide();\n",
    "                          } else {\n",
    "                        $('div.input').show();\n",
    "                        }\n",
    "                        code_show = !code_show\n",
    "                       }\n",
    "                       //$( document ).ready(code_toggle);\n",
    "                       </script>\n",
    "                       <form action=\"javascript:code_toggle()\"><input type=\"submit\"\n",
    "                       value=\"Show/hide  all code in this notebook\"></form>'''))\n",
    "\n",
    "code_hider()\n"
   ]
  },
  {
   "cell_type": "code",
   "execution_count": null,
   "metadata": {
    "collapsed": false
   },
   "outputs": [],
   "source": [
    "# Boilerplate startup code\n",
    "%matplotlib notebook\n",
    "%matplotlib inline\n",
    "import math\n",
    "import numpy as np\n",
    "import pandas as pd\n",
    "import os\n",
    "import matplotlib\n",
    "import matplotlib.pyplot as plt\n",
    "import codecs\n",
    "from datetime import datetime\n",
    "from scipy.ndimage.filters import gaussian_filter\n",
    "\n",
    "matplotlib.rc('font', size=16)\n",
    "plt.rcParams['figure.figsize'] = (15.0, 10.0)    # resize plots\n",
    "\n",
    "\n",
    "def read_file(file):\n",
    "    ''' a simple function to read the files and produce a pandas DataFrame '''\n",
    "    #    arguments: file = the file you want to read\n",
    "    #      returns: df = pandas DataFrame\n",
    "    \n",
    "    COMMENT_CHAR = '#'\n",
    "    columns = []\n",
    "    with file as td:\n",
    "        for line in td:\n",
    "            # find the commented lines\n",
    "            if line[0] == COMMENT_CHAR or line[0] =='t' :\n",
    "                if ('t=') in line:\n",
    "                    splitvalues= line.split(\" \")\n",
    "                    time = float(splitvalues[1][0:-2])\n",
    "                    \n",
    "            # when we see the first line that doesn't start with \n",
    "            # COMMENT_CHAR, we pass the remaining lines of the \n",
    "            # file to pandas.read_table and break our loop\n",
    "            else:\n",
    "                _dfs = [\n",
    "                        pd.DataFrame([line.split()],  dtype=int),\n",
    "                        pd.read_table(td, sep='\\s+', names=['channel', 'N'], header=None, engine='python')\n",
    "                        ]\n",
    "                df = pd.concat(_dfs, ignore_index=True)\n",
    "    \n",
    "    df['NEr'] = [math.sqrt(y)/time for y in df.N]\n",
    "    df['nu'] = df.N/time\n",
    "    #remove rows if at least 3 values in a row are NaN\n",
    "    df = df.dropna(thresh=3)\n",
    "    # drop the 2 first columns\n",
    "    df = df.drop([0,1], axis = 1)\n",
    "    return df\n",
    "\n"
   ]
  },
  {
   "cell_type": "code",
   "execution_count": null,
   "metadata": {
    "collapsed": false
   },
   "outputs": [],
   "source": [
    "filename = 'Cs.txt'\n",
    "\n",
    "fileCs = codecs.open(filename, encoding = \"ISO-8859-1\")\n",
    "data = read_file(fileCs)\n",
    "\n",
    "# plot something\n",
    "plt.plot(data.channel, data.N, label=\"Your source\")\n",
    "plt.legend()\n",
    "plt.ylabel(\"Y axis label [units]\")\n",
    "plt.xlabel(\"X axis label [units]\")\n",
    "\n"
   ]
  },
  {
   "cell_type": "code",
   "execution_count": null,
   "metadata": {
    "collapsed": false
   },
   "outputs": [],
   "source": [
    "from scipy import signal\n",
    "data = data.loc[data.channel<1100]\n",
    "def find_peaks(data, do_the_plot = True):\n",
    "    #function to find the peaks\n",
    "    #   returns: the x positions of the peaks\n",
    "    \n",
    "    # change these parameters to be suit better your case\n",
    "    widths = np.arange(15, 100, 20)\n",
    "    peakind = signal.find_peaks_cwt(data.N, widths)\n",
    "    if do_the_plot:\n",
    "        plt.plot(data.channel, data.N, label=\"Your source\")\n",
    "        plt.plot(data.channel[peakind], data.N[peakind], color=\"red\", linewidth=0, marker='o', label=\"peaks\")\n",
    "        plt.ylabel(\"Y axis label [units]\")\n",
    "        plt.xlabel(\"X axis label [units]\")\n",
    "        plt.legend()\n",
    "    return peakind\n",
    "find_peaks(data)"
   ]
  },
  {
   "cell_type": "code",
   "execution_count": null,
   "metadata": {
    "collapsed": false
   },
   "outputs": [],
   "source": [
    "def select_region(data, peak_value, nr_of_channels):\n",
    "    # function to select part of the spectrum\n",
    "    peak_data = data.loc[data.channel < peak_value + nr_of_channels]\n",
    "    peak_data = peak_data.loc[data.channel > peak_value - nr_of_channels]\n",
    "    return peak_data\n",
    "\n",
    "interesting = select_region(data, 800, 100)\n",
    "\n",
    "plt.plot(interesting.channel, interesting.N, label=\"Your source\")\n",
    "plt.legend()\n",
    "plt.ylabel(\"Y axis label [units]\")\n",
    "plt.xlabel(\"X axis label [units]\")\n",
    "\n"
   ]
  }
 ],
 "metadata": {
  "kernelspec": {
   "display_name": "Python 3",
   "language": "python",
   "name": "python3"
  },
  "language_info": {
   "codemirror_mode": {
    "name": "ipython",
    "version": 3
   },
   "file_extension": ".py",
   "mimetype": "text/x-python",
   "name": "python",
   "nbconvert_exporter": "python",
   "pygments_lexer": "ipython3",
   "version": "3.5.4"
  }
 },
 "nbformat": 4,
 "nbformat_minor": 0
}
