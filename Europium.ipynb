{
 "cells": [
  {
   "cell_type": "code",
   "execution_count": null,
   "metadata": {
    "collapsed": false
   },
   "outputs": [],
   "source": [
    "from textwrap import dedent\n",
    "\n",
    "def code_hider():\n",
    "    \"\"\"Make a button in the jupyter notebook to hide all code\"\"\"\n",
    "    # Stolen from stackoverflow... forget which question\n",
    "    # I would really like these buttons for every individual cell.. but I don't know how\n",
    "    from IPython.display import HTML    # Please keep here, don't want hax to depend on ipython!\n",
    "    return HTML(dedent('''\n",
    "                       <script>\n",
    "                       code_show=true\n",
    "                       function code_toggle() {\n",
    "                        if (code_show){\n",
    "                        $('div.input').hide();\n",
    "                          } else {\n",
    "                        $('div.input').show();\n",
    "                        }\n",
    "                        code_show = !code_show\n",
    "                       }\n",
    "                       //$( document ).ready(code_toggle);\n",
    "                       </script>\n",
    "                       <form action=\"javascript:code_toggle()\"><input type=\"submit\"\n",
    "                       value=\"Show/hide  all code in this notebook\"></form>'''))\n",
    "\n",
    "code_hider()\n"
   ]
  },
  {
   "cell_type": "code",
   "execution_count": null,
   "metadata": {
    "collapsed": false
   },
   "outputs": [],
   "source": [
    "# Boilerplate startup code\n",
    "%matplotlib notebook\n",
    "%matplotlib inline\n",
    "import math\n",
    "import numpy as np\n",
    "import pandas as pd\n",
    "import os\n",
    "import matplotlib\n",
    "import matplotlib.pyplot as plt\n",
    "import codecs\n",
    "from datetime import datetime\n",
    "from scipy.ndimage.filters import gaussian_filter\n",
    "\n",
    "matplotlib.rc('font', size=16)\n",
    "plt.rcParams['figure.figsize'] = (15.0, 5.0)    # resize plots\n",
    "\n",
    "\n",
    "def read_file(file):\n",
    "    COMMENT_CHAR = '#'\n",
    "    columns = []\n",
    "    with file as td:\n",
    "        for line in td:\n",
    "        \n",
    "            # find the commented lines\n",
    "            if line[0] == COMMENT_CHAR or line[0] =='0':\n",
    "                if ('dure de comptage:') in line:\n",
    "                    splitvalues= line.split(\"e:  \")\n",
    "                    date_str= splitvalues[1][0:-2]\n",
    "                    \n",
    "                    time= datetime.strptime(date_str, '%H:%M:%S')- datetime.strptime(\"1900:1:1\",'%Y:%m:%d')\n",
    "            # when we seethe first line that doesn't start with \n",
    "            # COMMENT_CHAR, we pass the remaining lines of the \n",
    "            # file to pandas.read_table and break our loop\n",
    "            else:\n",
    "                _dfs = [\n",
    "                        pd.DataFrame([line.split()],  dtype=int),\n",
    "                        pd.read_table(td, sep='\\s+', names=['channel', 'N'], header=None, engine='python')\n",
    "                        ]\n",
    "                df = pd.concat(_dfs, ignore_index=True)\n",
    "    df['NEr'] = [math.sqrt(y)/time.seconds for y in df.N]\n",
    "\n",
    "    df.N = df.N/time.seconds\n",
    "    df = df.dropna(thresh=2)\n",
    "    return df\n",
    "\n",
    "cs_lines = [661] #keV\n",
    "co_lines = [1173, 1332]\n",
    "na_lines = [511, 1274]"
   ]
  },
  {
   "cell_type": "code",
   "execution_count": null,
   "metadata": {
    "collapsed": false
   },
   "outputs": [],
   "source": [
    "fileEu = codecs.open('data/EU152_03.A01', encoding = \"ISO-8859-1\")\n",
    "data = read_file(fileEu)\n",
    "plt.plot(data.channel, data.N, label=\"EU 152\")\n",
    "\n",
    "\n"
   ]
  },
  {
   "cell_type": "code",
   "execution_count": null,
   "metadata": {
    "collapsed": false
   },
   "outputs": [],
   "source": [
    "#from scipy.misc import electrocardiogram\n",
    "import scipy\n",
    "from scipy import signal\n",
    "\n",
    "xs = np.arange(0, 3*np.pi, 0.05)\n",
    "#data = np.sin(xs)\n",
    "#print(data)\n",
    "widths = np.arange(5, 100)\n",
    "data.dropna(subset=['channel'], inplace=True)\n",
    "\n",
    "peakind = signal.find_peaks_cwt(data.N, widths)\n",
    "#print(data)\n",
    "params = [ 4.48558099,  0.50569836]\n",
    "\n",
    "print(peakind, data.channel[peakind])\n",
    "\n",
    "\n",
    "#scipy.signal.find_peaks(x, heght = 0)\n",
    "#from scipy.signal import find_peaks\n",
    "#x = electrocardiogram()[2000:4000]\n",
    "#peaks, _ = find_peaks(x, height=0)\n",
    "\n",
    "plt.plot(data.channel, data.N)\n",
    "plt.plot(data.channel[peakind], data.N[peakind], color=\"red\", linewidth=0, marker='o')\n",
    "#plt.plot(peaks, x[peaks], \"x\")\n",
    "\n",
    "#plt.plot(np.zeros_like(x), \"--\", color=\"gray\")\n",
    "#plt.show()"
   ]
  },
  {
   "cell_type": "code",
   "execution_count": null,
   "metadata": {
    "collapsed": false,
    "scrolled": true
   },
   "outputs": [],
   "source": [
    "energyEu = [122, 245, 344, 779, 964, 1112, 1408]\n",
    "peaks_in_data = data.channel[peakind]\n",
    "values_at_peaks = data.N[peakind]\n",
    "#peaks_in_data = peaks_in_data.loc[peaks_in_data>10]\n",
    "peaks_in_data = peaks_in_data.loc[peaks_in_data<1000]\n",
    "\n",
    "energyEu = [122, 344, 779, 964, 1112, 1408]\n",
    "\n",
    "print(peaks_in_data)\n",
    "print(energyEu)\n",
    "plt.plot(peaks_in_data, energyEu, color=\"red\", linewidth=0, marker='o')\n",
    "\n",
    "import math\n",
    "def gaus(x,a,x0,sigma):\n",
    "    if sigma<0 :\n",
    "        return -100000\n",
    "    return a*exp(-(x-x0)**2/(2*sigma**2))\n",
    "\n",
    "def line(x, a, b):\n",
    "    return a+b*x\n",
    "params, cov= curve_fit(line,  peaks_in_data, energyEu, sigma=2)\n",
    "\n",
    "x = np.linspace(0, 1000, 200)\n",
    "plt.plot(x, line(x,params[0], params[1]))\n",
    "plt.ylabel(\"ADC counts\")\n",
    "plt.xlabel(\"Energy [keV]\")\n"
   ]
  },
  {
   "cell_type": "code",
   "execution_count": null,
   "metadata": {
    "collapsed": false
   },
   "outputs": [],
   "source": [
    "\n",
    "df_br = read_file(fileBr)                \n",
    "plt.errorbar(df_br.channel, df_br.N, yerr=df_br.NEr, label=\"Bruit\")\n",
    "plt.ylim(0, 0.05)"
   ]
  },
  {
   "cell_type": "code",
   "execution_count": null,
   "metadata": {
    "collapsed": false,
    "scrolled": false
   },
   "outputs": [],
   "source": [
    "fileBa = codecs.open('data/BA133.A01', encoding = \"ISO-8859-1\")\n",
    "fileCs = codecs.open('data/CS137.A01', encoding = \"ISO-8859-1\")\n",
    "fileCo = codecs.open('data/CO60.A01', encoding = \"ISO-8859-1\")\n",
    "fileNa = codecs.open('data/NA22.A01', encoding = \"ISO-8859-1\")\n",
    "\n",
    "df_ba = read_file(fileBa)                \n",
    "plt.semilogy(df_ba.channel, df_ba.N, label=\"BA 133\")\n",
    "df_cs = read_file(fileCs)                \n",
    "plt.semilogy(df_cs.channel, df_cs.N, label=\"Cs 137\")\n",
    "df_co = read_file(fileCo)                \n",
    "plt.semilogy(df_co.channel, df_co.N, label=\"Co 60\")\n",
    "df_na = read_file(fileNa)                \n",
    "plt.semilogy(df_na.channel, df_na.N, label=\"Na 22\")\n",
    "\n",
    "fileBr = codecs.open('data/BRUIT.A01', encoding = \"ISO-8859-1\")\n",
    "\n",
    "df_br = read_file(fileBr)                \n",
    "plt.semilogy(df_br.channel, df_br.N, label=\"Bruit\")\n",
    "plt.legend()\n",
    "\n",
    "\n",
    "#plt.show()"
   ]
  },
  {
   "cell_type": "code",
   "execution_count": null,
   "metadata": {
    "collapsed": false,
    "scrolled": false
   },
   "outputs": [],
   "source": [
    "from scipy.optimize import curve_fit\n",
    "from scipy.stats import linregress\n",
    "from scipy import asarray as ar,exp\n",
    "\n",
    "import math\n",
    "def gaus(x,a,x0,sigma):\n",
    "    if sigma<0 :\n",
    "        return -100000\n",
    "    return a*exp(-(x-x0)**2/(2*sigma**2))\n",
    "\n",
    "def line(x, a, b):\n",
    "    return a+b*x\n",
    "\n",
    "def get_peaks_resolution(data, start, end, title, energy):\n",
    "# print(data)\n",
    "    selected = data.loc[data['channel']>start]\n",
    "    selected = selected.loc[selected['channel']<end]\n",
    "    x = selected.channel\n",
    "    y = selected.N\n",
    "    y_err = selected.NEr\n",
    "    popt,pcov = curve_fit(gaus,x,y, sigma= y_err, p0=[1, (end-start)/2.+start, 20], absolute_sigma=True)\n",
    "    result = {'mean': popt[1], 'mean_er':math.sqrt(pcov[1][1]),\n",
    "              'sigma': popt[2], 'sigma_er':math.sqrt(pcov[2][2]), \n",
    "              \"energy\": energy}\n",
    "              \n",
    "        \n",
    "    print(result)\n",
    "    plt.errorbar(x,y, yerr= [val for val in  y_err], label='data')\n",
    "    #plt.plot(x,y, 'ro:',label='data')\n",
    "   \n",
    "    plt.plot(x,gaus(x,*popt),'b+:',label='fit')\n",
    "    plt.legend()\n",
    "    plt.title(title)\n",
    "    plt.ylabel('Event rate (Hz)')\n",
    "    plt.xlabel('ADC counts')\n",
    "    return result\n",
    "  \n",
    "res = []\n",
    "\n",
    "fig1 = plt.figure(figsize = (5.0, 5.0))\n",
    "res.append(get_peaks_resolution(df_cs,320, 400, \"Cs 661 keV\", 661))\n",
    "fig2 = plt.figure(figsize = (5.0, 5.0))\n",
    "res.append(get_peaks_resolution(df_co,565, 630, \"C0 1173 keV\", 1173))\n",
    "fig3 = plt.figure(figsize = (5.0, 5.0))\n",
    "\n",
    "res.append(get_peaks_resolution(df_co,650, 700, \"C0 1332 keV\", 1332))\n",
    "fig4 = plt.figure(figsize = (5.0, 5.0))\n",
    "\n",
    "res.append(get_peaks_resolution(df_na,245, 280, \"Na 511 keV\", 511))\n",
    "fig5 = plt.figure(figsize = (5.0, 5.0))\n",
    "\n",
    "res.append(get_peaks_resolution(df_na,600, 660, \"Na 1274 keV\", 1274))\n",
    "fig5 = plt.figure(figsize = (5.0, 5.0))\n",
    "res.append(get_peaks_resolution(df_na,35, 50, \"Pb 80 keV\", 80))\n",
    "#res.append(get_peaks_resolution(df_ba,180, 220, \"Ba 288 keV\", 288))\n",
    "\n",
    "#print(res[:]['mean'])\n",
    "\n",
    "#plt.plot(result['mean'],result['energy'])"
   ]
  },
  {
   "cell_type": "code",
   "execution_count": null,
   "metadata": {
    "collapsed": false,
    "scrolled": false
   },
   "outputs": [],
   "source": [
    "means = [r['mean'] for r in res]\n",
    "mean_er = [r['mean_er'] for r in res]\n",
    "en = [r['energy'] for r in res]\n",
    "\n",
    "params, cov= curve_fit(line, en, means, sigma=mean_er)\n",
    "\n",
    "plt.errorbar(en, means,yerr=mean_er, fmt='.')\n",
    "x = np.linspace(0, 1400, 200)\n",
    "plt.plot(x, line(x,params[0], params[1]))\n",
    "plt.ylabel(\"ADC counts\")\n",
    "plt.xlabel(\"Energy [keV]\")\n",
    "\n",
    "print(params)\n",
    "print(cov)"
   ]
  },
  {
   "cell_type": "code",
   "execution_count": null,
   "metadata": {
    "collapsed": false,
    "scrolled": false
   },
   "outputs": [],
   "source": [
    "sigma = [r['sigma']/r['mean'] for r in res]\n",
    "sigma_er = [r['sigma_er']/r['mean'] for r in res]\n",
    "#en = [r['energy'] for r in res]\n",
    "\n",
    "params, cov= curve_fit(line, en, means)\n",
    "#print(params, cov)\n",
    "plt.errorbar(en, sigma,yerr=sigma_er, fmt='o')\n",
    "x = np.linspace(200, 1400, 200)\n",
    "#plt.plot(x, line(x,params[0], params[1]))\n",
    "#plt.plot(sp.linspace(200,1400), means,yerr=mean_er, fmt='o')\n"
   ]
  },
  {
   "cell_type": "code",
   "execution_count": null,
   "metadata": {
    "collapsed": false,
    "scrolled": false
   },
   "outputs": [],
   "source": [
    "plt.figure(figsize = (15.0, 15.0))    # resize plots-\n",
    "cal_ba = df_ba.copy()\n",
    "cal_ba['channel']= cal_ba['channel']/params[1]-params[0]\n",
    "plt.semilogy(cal_ba.channel, cal_ba.N, label=\"BA 133\")\n",
    "cal_na = df_na.copy()\n",
    "cal_na['channel']= cal_na['channel']/params[1]-params[0]\n",
    "plt.semilogy(cal_na.channel, cal_na.N, label=\"Na 22\")\n",
    "cal_cs = df_cs.copy()\n",
    "cal_cs['channel']= cal_cs['channel']/params[1]-params[0]\n",
    "plt.semilogy(cal_cs.channel, cal_cs.N, label=\"Cs 137\")\n",
    "cal_co = df_co.copy()\n",
    "cal_co['channel']= cal_co['channel']/params[1]-params[0]\n",
    "plt.semilogy(cal_co.channel, cal_co.N, label=\"Co 60\")\n",
    "\n",
    "cal_br = df_br.copy()\n",
    "cal_br['channel']= cal_br['channel']/params[1]-params[0]\n",
    "plt.semilogy(cal_br.channel, cal_br.N, label=\"Bruit\")\n",
    "\n",
    "\n",
    "plt.grid(axis=\"x\")\n",
    "plt.xlim(0, 1900)\n",
    "plt.legend()"
   ]
  },
  {
   "cell_type": "markdown",
   "metadata": {},
   "source": [
    "## Calibration du détecteur"
   ]
  },
  {
   "cell_type": "markdown",
   "metadata": {},
   "source": [
    "## Mesure du temps du vie"
   ]
  },
  {
   "cell_type": "code",
   "execution_count": null,
   "metadata": {
    "collapsed": false
   },
   "outputs": [],
   "source": [
    "E = 661\n",
    "bins = np.linspace(0, 1.2, 1200)\n",
    "N = int(1e6)\n",
    "\n",
    "prop = np.random.rand(N)\n",
    "\n",
    "plt.figure(figsize = (15.0, 10.0))\n",
    "\n",
    "costheta = 1 - 2*np.random.rand(N)\n",
    "egamma = 511/(511+E*(1-costheta))\n",
    "egammaCount, egammaEdges = np.histogram(egamma, bins=bins, weights=prop)\n",
    "plt.semilogy(bins[:-1], egammaCount, color=\"gray\")\n",
    "\n",
    "costheta = 1 - 2*np.random.rand(N)\n",
    "ee = 1 - 511/(511+E*(1-costheta))\n",
    "eeCount, eeEdges = np.histogram(ee, bins=bins, weights=1-prop)\n",
    "eeCount *= 0.3\n",
    "plt.semilogy(bins[:-1], eeCount, color=\"red\")\n",
    "\n",
    "peak = bins.copy()[:-1]\n",
    "peak[1000] = 0.6 * N\n",
    "\n",
    "total = egammaCount + eeCount + peak\n",
    "\n",
    "plt.semilogy(bins[:-1], total - peak)\n",
    "\n",
    "from scipy.ndimage.filters import gaussian_filter\n",
    "plt.semilogy(bins[:-1], gaussian_filter(total, sigma=20))\n",
    "\n",
    "plt.title('${}^{137}\\mathrm{Cs}$')\n",
    "plt.xlabel('$E_\\mathrm{seen}/E_\\gamma$')\n",
    "plt.ylabel('Probability (a.u.)')\n",
    "plt.legend(('$\\gamma$ is detected', '$e$ is detected', 'sum', 'with peak $*$ xp resolution'))"
   ]
  },
  {
   "cell_type": "code",
   "execution_count": null,
   "metadata": {
    "collapsed": true
   },
   "outputs": [],
   "source": []
  }
 ],
 "metadata": {
  "kernelspec": {
   "display_name": "Python 3",
   "language": "python",
   "name": "python3"
  },
  "language_info": {
   "codemirror_mode": {
    "name": "ipython",
    "version": 3
   },
   "file_extension": ".py",
   "mimetype": "text/x-python",
   "name": "python",
   "nbconvert_exporter": "python",
   "pygments_lexer": "ipython3",
   "version": "3.5.4"
  }
 },
 "nbformat": 4,
 "nbformat_minor": 2
}
